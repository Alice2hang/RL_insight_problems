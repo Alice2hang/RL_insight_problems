{
 "cells": [
  {
   "cell_type": "code",
   "execution_count": 6,
   "metadata": {},
   "outputs": [],
   "source": [
    "import csv\n",
    "from collections import defaultdict\n",
    "from constants import *\n",
    "import pandas as pd\n",
    "import math \n",
    "import numpy as np\n",
    "import matplotlib.pyplot as plt"
   ]
  },
  {
   "cell_type": "code",
   "execution_count": null,
   "metadata": {},
   "outputs": [],
   "source": [
    "valid_users = set()\n",
    "user_train_count = defaultdict(int)     # number of training grids completed for each user\n",
    "user_test_count = defaultdict(int)      # number of test grids completed for each user\n",
    "user_train_score = defaultdict(int)     # cumulative training score for each user\n",
    "user_test_timeouts = defaultdict(set)   # test grids the user timed out on for each user\n",
    "\n",
    "with open('data/time_pressure_experiment_raw.csv', encoding='utf-8-sig') as csvfile:\n",
    "    reader = csv.DictReader(csvfile)\n",
    "    for row in reader:\n",
    "        if row['step'] == '6':          # step 6 contains metadata for the trial as a whole including total reward\n",
    "            user = row['userid']\n",
    "            valid_users.add(user)\n",
    "            if row['type'] == \"train\":\n",
    "                user_train_count[user] += 1\n",
    "                user_train_score[user] += int(row['reward_cum'])\n",
    "            elif row['type'] == \"test\":\n",
    "                user_test_count[user] += 1\n",
    "                if int(row['gridnum']) > 100 and int(row['reward_cum']) <= -4:    # If score <=-4 on test grids of interest, we know the user timed out\n",
    "                    user_test_timeouts[user].add(int(row['gridnum']))\n",
    "\n",
    "# exclude users who did not complete all training and test grids, scored less than 0 points in training, or timed out 6 or more times\n",
    "def include_user(user):\n",
    "    return not (user_train_count[user]!=60 or user_test_count[user]!=50 or len(user_test_timeouts[user])>=6 or user_train_score[user]<0)\n",
    "\n",
    "print(\"Number of users before exclusions: \" + str(len(valid_users)))       \n",
    "valid_users = set(filter(include_user, valid_users))\n",
    "print(\"Number of users after exclusions: \" + str(len(valid_users)))"
   ]
  },
  {
   "cell_type": "markdown",
   "metadata": {},
   "source": [
    "The following codeblock writes preprocessed data (with exclusions removed and with variables coded as described in the pre-registration) to a csv to be used in downstream R processing."
   ]
  },
  {
   "cell_type": "code",
   "execution_count": 3,
   "metadata": {},
   "outputs": [],
   "source": [
    "best_score_count = defaultdict(int)     # The number of grids where the user achieved the best score for each grid type and manipulation\n",
    "total_count = defaultdict(int)          # The total number of grids completed for each grid type and manipulation\n",
    "data = []\n",
    "\n",
    "with open('data/time_pressure_experiment_raw.csv', encoding='utf-8-sig') as csvfile:\n",
    "    reader = csv.DictReader(csvfile)\n",
    "    for row in reader:\n",
    "        gridnum = int(row['gridnum'])\n",
    "        userid = row['userid']\n",
    "        # looks only at final results for test grids of interest where user did not time out\n",
    "        if userid in valid_users and gridnum > 100 and not gridnum in user_test_timeouts[userid] and row['step']=='6':\n",
    "            score_dif = int(row['reward_cum'])-int(row['reward_max'])\n",
    "            timed = int(row['timed'])\n",
    "            if timed == 0:\n",
    "                time = 0.5 #delay\n",
    "            else:\n",
    "                time = -0.5 #pressure\n",
    "            if gridnum in MUST_PUSH_GRIDNUMS: \n",
    "                distrib = -0.5 #out of distrib\n",
    "                push_val = 0.5\n",
    "            elif gridnum in MUST_SWITCH_GRIDNUMS:\n",
    "                distrib = -0.5 #out of distrib        \n",
    "                push_val = -0.5\n",
    "            elif gridnum in PUSH_GET_GRIDNUMS:\n",
    "                distrib = 0.5 #in distrib\n",
    "                push_val = 0\n",
    "            elif gridnum in SWITCH_SAVE_GRIDNUMS:\n",
    "                distrib = 0.5 #in distrib\n",
    "                push_val = 0\n",
    "\n",
    "            bin_num = (gridnum//100-1)*2 + timed    # assign a bin for each unique gridtype and time constraint combination\n",
    "            if score_dif == 0:\n",
    "                best_score_count[bin_num] += 1\n",
    "            total_count[bin_num] += 1\n",
    "\n",
    "            data.append([userid, gridnum, score_dif, time, distrib, time*distrib, push_val, time*push_val])\n",
    "\n",
    "df = pd.DataFrame(data,columns=['user_id', 'grid_num', 'score_dif', 'time_constraint', 'in_distrib', 'time_x_distrib', 'push', 'time_x_push'])\n",
    "df.to_csv('data/time_pressure_data_coded.csv')"
   ]
  },
  {
   "cell_type": "code",
   "execution_count": 4,
   "metadata": {},
   "outputs": [
    {
     "data": {
      "image/png": "[encoded data removed]",
      "text/plain": [
       "<Figure size 432x288 with 1 Axes>"
      ]
     },
     "metadata": {
      "needs_background": "light"
     },
     "output_type": "display_data"
    }
   ],
   "source": [
    "# Compute proportion of grids on which the best score was achieved \n",
    "proportion = {}\n",
    "for bin_num, count in best_score_count.items():\n",
    "    proportion[bin_num] = count/total_count[bin_num]\n",
    "\n",
    "# Compute standard error of proportion \n",
    "error = []\n",
    "for bin_num, p in proportion.items():    \n",
    "    e = 1.96 * math.sqrt(p*(1-p)/total_count[bin_num])\n",
    "    error.append(e)\n",
    "    \n",
    "# Define labels, positions, bar heights and error bar heights\n",
    "labels = ['Push Sacrifice', 'Switch Sacrifice','Switch Save','Get Targets']\n",
    "delay_proportions = []\n",
    "delay_error = []\n",
    "pressure_proportions = []\n",
    "pressure_error = []\n",
    "for i in range(8):\n",
    "    if i%2==0:\n",
    "        delay_proportions.append(proportion[i])\n",
    "        delay_error.append(error[i])\n",
    "    else:\n",
    "        pressure_proportions.append(proportion[i])\n",
    "        pressure_error.append(error[i])\n",
    "\n",
    "x = np.arange(len(labels))  # the label locations\n",
    "width = 0.35  # the width of the bars\n",
    "\n",
    "fig, ax = plt.subplots()\n",
    "rects1 = ax.bar(x - width/2, delay_proportions, width, yerr=delay_error, capsize=3, label='Delay')\n",
    "rects2 = ax.bar(x + width/2, pressure_proportions, width, yerr=pressure_error, capsize=3, label='Pressure')\n",
    "\n",
    "# Add some text for labels, title and custom x-axis tick labels, etc.\n",
    "ax.set_ylabel('Percent solved correctly')\n",
    "ax.set_title('Effect of Time Pressure and Time Delay on Human Performance')\n",
    "ax.set_xticks(x)\n",
    "ax.set_xticklabels(labels)\n",
    "ax.legend()\n",
    "plt.show()"
   ]
  },
  {
   "cell_type": "code",
   "execution_count": 5,
   "metadata": {},
   "outputs": [
    {
     "name": "stdout",
     "output_type": "stream",
     "text": [
      "Proportion of best score achieved out of total completed:\n",
      "Delay Push Sacrifice: 59.7%\n",
      "Delay Switch Sacrifice: 96.3%\n",
      "Delay Switch Save: 95.5%\n",
      "Delay Get Targets: 93.8%\n",
      "Pressure Push Sacrifice: 36.9%\n",
      "Pressure Switch Sacrifice: 84.3%\n",
      "Pressure Switch Save: 87.6%\n",
      "Pressure Get Targets: 90.2%\n"
     ]
    }
   ],
   "source": [
    "print(\"Proportion of best score achieved out of total completed:\")\n",
    "for idx, p in enumerate(delay_proportions):\n",
    "    print(\"Delay \" + labels[idx] + \": \" + '{:.1%}'.format(p))\n",
    "for idx, p in enumerate(pressure_proportions):\n",
    "    print(\"Pressure \" + labels[idx] + \": \" + '{:.1%}'.format(p))"
   ]
  }
 ],
 "metadata": {
  "kernelspec": {
   "display_name": "Python 3",
   "name": "python3"
  },
  "language_info": {
   "codemirror_mode": {
    "name": "ipython",
    "version": 3
   },
   "file_extension": ".py",
   "mimetype": "text/x-python",
   "name": "python",
   "nbconvert_exporter": "python",
   "pygments_lexer": "ipython3",
   "version": "3.6.8"
  },
  "orig_nbformat": 2
 },
 "nbformat": 4,
 "nbformat_minor": 2
}
